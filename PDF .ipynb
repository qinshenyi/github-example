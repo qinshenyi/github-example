{
    "cells": [
        {
            "cell_type": "markdown",
            "metadata": {
                "collapsed": true
            },
            "source": "# A new Chinese Restaurant in New York\n\n# 1. Introduction\n\nAs the most populous city in the United States, New York has a long history of international immigration with nearly 8.5 million people in 2014, accounting for over 40% of the population of New York State and a slightly lower percentage of the New York metropolitan area, home to approximately 23.6 million.\n\nWith it\u2019s diverse culture , comes diverse food items. There are many restaurants in New York City, each belonging to different categories like Chinese , Indian , French etc.\n\nWang Dali is a chinese man with german background. He moved to New York in early 2020 and plans to continue his chinese restaurant career in New York. Everything is a new beginning now. This project is his first step.  \n\n# 2. Business Problem for the Project Restaurant in the City\nIn this Project we will provide the data support to help to make the business decision. The aim city is New York. We need to gather the information of restaurant in the neighborhood and find the taste and benefit situation of the company. Our aim is to open a new Chinese restaurant in the city. Therefore, we need the data of all the chinese restaurants and maybe the business model of the restaurant in more detail. Then we can decide the position of the restaurant and the star product.\n\n\n# 3. Data Preparation\nFor this project we need the following data:\n\n1. New York City data that contains list Boroughs, Neighborhoods along with their latitude and longitude. \n* Data source : https://cocl.us/new_york_dataset \n* Description : This data set contains the required information. And we will use this data set to explore various neighborhoods of new york city.\n\n2. Chinese resturants in each neighborhood of new york city. \n* Data source : Fousquare API / Google Map API\n* Description : By using this api we will get all the venues in each neighborhood. We can filter these venues to get only chinese resturants.\n\n3. GeoSpace data \n* Data source : https://data.cityofnewyork.us/City-Government/Borough-Boundaries/tqmj-j8zm \n* Description : By using this geo space data we will get the New york Borough boundaries that will help us visualize choropleth map.\n\n# 4. Approach Plan\nPart One\n1. Collect the new york city data from https://cocl.us/new_york_dataset\n2. Using FourSquare API we will find all venues for each neighborhood.\n3. Filter out all venues that are Chinese Resturants.\n4. Find out the percentage of  Chinese Resturants in different venues.\n\nPart Two\n5. *Find rating , tips and like count for each Chinese Resturants using FourSquare API.\n6. *Using rating for each resturant , we will sort that data.\n7. *Visualize the Ranking of neighborhoods using folium library(python)\n8. *Average Ranking of Restaurant in different venues\n\n# 5. Data Acquisition and Cleaning\n\n\n## 5.1 the Boroughs, Neighborhoods of New York City\n\nuse the first dataset to get the boroughs and neighborhoods of New York City, 'https://cocl.us/new_york_dataset'"
        },
        {
            "cell_type": "code",
            "execution_count": null,
            "metadata": {},
            "outputs": [],
            "source": ""
        }
    ],
    "metadata": {
        "kernelspec": {
            "display_name": "Python 3.6",
            "language": "python",
            "name": "python3"
        },
        "language_info": {
            "codemirror_mode": {
                "name": "ipython",
                "version": 3
            },
            "file_extension": ".py",
            "mimetype": "text/x-python",
            "name": "python",
            "nbconvert_exporter": "python",
            "pygments_lexer": "ipython3",
            "version": "3.6.9"
        }
    },
    "nbformat": 4,
    "nbformat_minor": 1
}